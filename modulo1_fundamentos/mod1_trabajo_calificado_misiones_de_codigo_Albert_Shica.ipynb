{
  "nbformat": 4,
  "nbformat_minor": 0,
  "metadata": {
    "colab": {
      "provenance": [],
      "include_colab_link": true
    },
    "kernelspec": {
      "name": "python3",
      "display_name": "Python 3"
    },
    "language_info": {
      "name": "python"
    }
  },
  "cells": [
    {
      "cell_type": "markdown",
      "metadata": {
        "id": "view-in-github",
        "colab_type": "text"
      },
      "source": [
        "<a href=\"https://colab.research.google.com/github/Shicamaru09/programa-utec-python/blob/main/modulo1_fundamentos/mod1_trabajo_calificado_misiones_de_codigo_Albert_Shica.ipynb\" target=\"_parent\"><img src=\"https://colab.research.google.com/assets/colab-badge.svg\" alt=\"Open In Colab\"/></a>"
      ]
    },
    {
      "cell_type": "markdown",
      "source": [
        "<img src=\"https://posgrado.utec.edu.pe/sites/default/files/2023-08/Testimonial-home-2.jpg\" alt=\"HTML5 Icon\" width=\"900\" height=\"250\" >\n"
      ],
      "metadata": {
        "id": "dYz-CyepUcRS"
      }
    },
    {
      "cell_type": "markdown",
      "source": [
        "# **Trabajo Calificado: Misiones de Código**"
      ],
      "metadata": {
        "id": "tYd6BiWgUfLo"
      }
    },
    {
      "cell_type": "markdown",
      "source": [
        "**Contexto:**\n",
        "\n",
        "Eres desarrollador de un Simulador de Aventuras llamado Pythonia, un entorno virtual de entrenamiento diseñado para mejorar tus habilidades de programación. En este simulador, enfrentarás una serie de desafíos basados en situaciones de videojuegos y escenarios de aventura, donde deberás aplicar estructuras lógicas, condicionales, bucles y funciones para resolver problemas.\n",
        "\n"
      ],
      "metadata": {
        "id": "GtjjVTFRU6W1"
      }
    },
    {
      "cell_type": "markdown",
      "source": [
        "Cada ejercicio representa un reto independiente que simula eventos comunes en el desarrollo de videojuegos, sistemas de simulación y lógica de juegos interactivos."
      ],
      "metadata": {
        "id": "Ggayz2SXVXjt"
      }
    },
    {
      "cell_type": "markdown",
      "source": [
        "**Recomendaciones:**\n",
        "\n",
        "Utilizar buenas prácticas: comentarios, entradas y salidas limpias.\n",
        "\n",
        "Uso de funciones donde sea necesario."
      ],
      "metadata": {
        "id": "eAL1_dscUjd_"
      }
    },
    {
      "cell_type": "markdown",
      "source": [
        "**Ejercicio 1: Elige tu personaje (Variables y Entrada/Salida)**\n",
        "\n",
        "Crea un programa que permita al jugador elegir su personaje entre Mago, Guerrero o Arquero. Según la elección, muestra un mensaje personalizado con las estadísticas iniciales (vida, poder, defensa)."
      ],
      "metadata": {
        "id": "YpxJc_PoVc4c"
      }
    },
    {
      "cell_type": "code",
      "source": [
        "## INICIO DE CÓDIGO\n",
        "\n",
        "print(\"Bienvenido al juego El Señor de los Anillos!\")\n",
        "name = input(\"Escribe tu nombre: \").strip().title()\n",
        "print(f\"Bienvenido {name}! Por favor elige tu personaje (Mago/Guerrero/Arquero)\")\n",
        "\n",
        "\n",
        "while True:\n",
        "    character = input(\"Escribe tu personaje: \").strip().lower()\n",
        "\n",
        "    if character == 'mago':\n",
        "        vida = 80\n",
        "        poder = 50\n",
        "        defensa = 30\n",
        "        break\n",
        "    elif character == 'guerrero':\n",
        "        vida = 100\n",
        "        poder = 40\n",
        "        defensa = 50\n",
        "        break\n",
        "    elif character == 'arquero':\n",
        "        vida = 90\n",
        "        poder = 40\n",
        "        defensa = 40\n",
        "        break\n",
        "    else:\n",
        "        print(\"Personaje incorrecto. Elige solo entre 'Mago', 'Guerrero' o 'Arquero'\")\n",
        "\n",
        "print(f'Felicidades {name.title()}, has elegido ser un {character.title()}!')\n",
        "print('Estas son sus estadisticas iniciales:')\n",
        "print(f'Vida: {vida}')\n",
        "print(f'Poder: {poder}')\n",
        "print(f'Defensa: {defensa}')\n",
        "\n",
        "\n",
        "## FIN DE CÓDIGO"
      ],
      "metadata": {
        "id": "GZrzl-7wVfkW",
        "colab": {
          "base_uri": "https://localhost:8080/"
        },
        "outputId": "71160856-7cc1-402b-b172-bbbd01c00d63"
      },
      "execution_count": null,
      "outputs": [
        {
          "output_type": "stream",
          "name": "stdout",
          "text": [
            "Bienvenido al juego El Señor de los Anillos!\n",
            "Escribe tu nombre: AL\n",
            "Bienvenido Al! Por favor elige tu personaje (Mago/Guerrero/Arquero)\n",
            "Escribe tu personaje: HOLA\n",
            "Personaje incorrecto. Elige solo entre 'Mago', 'Guerrero' o 'Arquero'\n",
            "Escribe tu personaje: GUERRERO\n",
            "Felicidades Al, has elegido ser un Guerrero!\n",
            "Estas son sus estadisticas iniciales:\n",
            "Vida: 100\n",
            "Poder: 40\n",
            "Defensa: 50\n"
          ]
        }
      ]
    },
    {
      "cell_type": "markdown",
      "source": [
        "**Ejercicio 2: La prueba del sabio (Condicionales)**\n",
        "\n",
        "El sabio te hace una pregunta: si traes menos de 50 monedas de oro, te expulsará; si llevas entre 50 y 100, te permitirá pasar; si llevas más de 100, te dará una poción.\n",
        "Crea el programa que lea las monedas y muestre el resultado."
      ],
      "metadata": {
        "id": "kvoGwX-QVgPr"
      }
    },
    {
      "cell_type": "code",
      "execution_count": null,
      "metadata": {
        "id": "3tg6KSK-UbUw",
        "colab": {
          "base_uri": "https://localhost:8080/"
        },
        "outputId": "e66a5dc7-5646-41f0-a748-d0bf4f121702"
      },
      "outputs": [
        {
          "output_type": "stream",
          "name": "stdout",
          "text": [
            "Hola, soy el gran Sabio!\n",
            "Por favor, ¿Cuál es tu nombre?: albert\n",
            "Hola Albert! Por favor dime cuantas monedas de oro tienes: 50\n",
            "Excelente Albert!! Puedes seguir!\n"
          ]
        }
      ],
      "source": [
        "## INICIO DE CÓDIGO\n",
        "\n",
        "print(\"Hola, soy el gran Sabio!\")\n",
        "name = input(\"Por favor, ¿Cuál es tu nombre?: \").strip().title()\n",
        "gold_coins = int(input(f\"Hola {name}! Por favor, dime cuántas monedas de oro tienes: \"))\n",
        "\n",
        "if gold_coins > 100:\n",
        "    print(f\"Excelente {name}!! Puedes seguir\")\n",
        "    print(f\"Toma esta pócima, te servirá más adelante!\")\n",
        "elif gold_coins >= 50:\n",
        "    print(f\"¡Excelente {name}! Puedes seguir\")\n",
        "elif gold_coins > 0:\n",
        "    print(f\"Lo siento {name}, Necesitarás más que eso!\")\n",
        "    print(f\"No puedes avanzar. ¡Recolecta más monedas\")\n",
        "\n",
        "## FIN DE CÓDIGO"
      ]
    },
    {
      "cell_type": "markdown",
      "source": [
        "**Ejercicio 3: El puente infinito (Bucles While)**\n",
        "\n",
        "Diseña un programa que simule el cruce de un puente que cambia su estructura aleatoriamente. El jugador debe adivinar si el siguiente paso será seguro ('s') o peligroso ('p').\n",
        "El juego termina si el jugador elige 'salir' o si falla 3 veces."
      ],
      "metadata": {
        "id": "g7B02fWhVj4M"
      }
    },
    {
      "cell_type": "code",
      "source": [
        "## INICIO DE CÓDIGO\n",
        "import random\n",
        "\n",
        "mistakes = 0\n",
        "steps = 0\n",
        "\n",
        "print(\"Bienvenido a Q’eswachaka!\")\n",
        "name = input(\"Escribe tu nombre: \").strip().title()\n",
        "print(f\"Bienvenido {name}! Intenta cruzar el puente adivinando si el paso es seguro ('s') o peligroso ('p')\")\n",
        "print(\"Escribe salir si desea terminar el juego\")\n",
        "\n",
        "while mistakes < 3:\n",
        "    bridge_structure = random.choice(['s','p']) #elecciones a escoger en el juego\n",
        "    choice_step = input(\"Adivina el siguiente paso! (s/p): \").strip().lower() #En caso escriban con mayuscula\n",
        "\n",
        "    if choice_step == \"salir\":\n",
        "        print('Gracias por jugar Q’eswachaka! Nos vemos pronto!')\n",
        "        break\n",
        "\n",
        "    if choice_step not in ['s','p','salir']:\n",
        "        print(\"Entrada invalida. Escribe solo 's', 'p' o 'salir'\")\n",
        "        continue\n",
        "\n",
        "    if choice_step == bridge_structure:\n",
        "        print(\"Buena eleccion! - Sigamos avanzando!\")\n",
        "        steps += 1\n",
        "\n",
        "    else:\n",
        "        print(\"Fallaste. Intentalo nuevamente!\")\n",
        "        mistakes += 1\n",
        "\n",
        "    if steps == 5:\n",
        "        print(\"Cruzaste Q’eswachaka!\", \"Entrega el mensaje - El Inca te espera!\")\n",
        "        break\n",
        "\n",
        "\n",
        "if mistakes == 3:\n",
        "    print(\"Has fallado 3 veces! El mensaje nunca llegara al Inca! Fin del juego!\")\n",
        "\n",
        "\n",
        "\n",
        "\n",
        "## FIN DE CÓDIGO"
      ],
      "metadata": {
        "id": "9DRMWhDBVn71",
        "colab": {
          "base_uri": "https://localhost:8080/"
        },
        "outputId": "2ae258f2-2509-4626-828c-aebe77a6e825"
      },
      "execution_count": null,
      "outputs": [
        {
          "output_type": "stream",
          "name": "stdout",
          "text": [
            "Bienvenido a Q’eswachaka!\n",
            "Escribe tu nombre: albert\n",
            "Bienvenido Albert! Intenta cruzar el puente adivinando si el paso es seguro ('s') o peligroso ('p')\n",
            "Escribe salir si desea terminar el juego\n",
            "Adivina el siguiente paso! (s/p): salir\n",
            "Gracias por jugar Q’eswachaka! Nos vemos pronto!\n"
          ]
        }
      ]
    },
    {
      "cell_type": "markdown",
      "source": [
        "**Ejercicio 4: El laberinto secreto (Bucle For y Range)**\n",
        "\n",
        "Crea un programa que muestre una cuenta regresiva desde 10 hasta 1 al estilo nivel de escape del laberinto. Cada número debe ir acompañado de un mensaje tipo \"Quedan X segundos para escapar\"."
      ],
      "metadata": {
        "id": "66qKXQwTVoZG"
      }
    },
    {
      "cell_type": "code",
      "source": [
        "## INICIO DE CÓDIGO\n",
        "import time\n",
        "\n",
        "for seconds in range(10, 0, -1):\n",
        "    print(f\"Quedan {seconds} segundos para escapar...! Date prisa!\")\n",
        "    time.sleep(seconds)\n",
        "\n",
        "print(\"Tiempo agotado! El laberinto se ha cerrado!\")\n",
        "## FIN DE CÓDIGO"
      ],
      "metadata": {
        "id": "i1S9WPmhVsEj",
        "colab": {
          "base_uri": "https://localhost:8080/"
        },
        "outputId": "b96dd8cd-31f2-4024-eae8-915b0c68753e"
      },
      "execution_count": 135,
      "outputs": [
        {
          "output_type": "stream",
          "name": "stdout",
          "text": [
            "Quedan 10 segundos para escapar...! Date prisa!\n",
            "Quedan 9 segundos para escapar...! Date prisa!\n",
            "Quedan 8 segundos para escapar...! Date prisa!\n",
            "Quedan 7 segundos para escapar...! Date prisa!\n",
            "Quedan 6 segundos para escapar...! Date prisa!\n",
            "Quedan 5 segundos para escapar...! Date prisa!\n",
            "Quedan 4 segundos para escapar...! Date prisa!\n",
            "Quedan 3 segundos para escapar...! Date prisa!\n",
            "Quedan 2 segundos para escapar...! Date prisa!\n",
            "Quedan 1 segundos para escapar...! Date prisa!\n",
            "Tiempo agotado! El laberinto se ha cerrado!\n"
          ]
        }
      ]
    },
    {
      "cell_type": "markdown",
      "source": [
        "**Ejercicio 5: Cofres encantados (Break y Continue)**\n",
        "\n",
        "Simula 10 cofres cerrados, pero uno de ellos es una trampa explosiva (elige aleatoriamente una posición).\n",
        "El jugador abre cofres uno por uno:\n",
        "\n",
        "* Si encuentra la trampa, termina el juego (break).\n",
        "\n",
        "* Si encuentra cofres vacíos, continúa (continue).\n",
        "\n",
        "* Si abre todos sin explotar, gana."
      ],
      "metadata": {
        "id": "5dL6C-x1VsYf"
      }
    },
    {
      "cell_type": "code",
      "source": [
        "## INICIO DE CÓDIGO\n",
        "\n",
        "import random # Me va permitir utilizar random.randint() para elegir numero al azar.\n",
        "\n",
        "bomb = random.randint(1,10) # Me permite elegir un número aleatorio\n",
        "opened_chest = [] # Mi lista vacía que contendrá los cofres abiertos\n",
        "\n",
        "print(\"Bienvenido a Tesoro!!\")\n",
        "name = input(\"Escribe tu nombre: \").strip().title()\n",
        "print(f\"Bienvenido {name}! Existen 10 cofres, abre todos los cofres pero evita el cofre explosivo y gana el tesoro!\")\n",
        "\n",
        "while len(opened_chest) < 10: # El bucle se ejecutara mientras haya menos de 10 cofres abiertos, len nos ayuda en el conteo\n",
        "    available_chest = [i for i in range(1,11) if i not in opened_chest]\n",
        "    print(f'Cofres disponibles: {available_chest}')\n",
        "    try:\n",
        "        choice_chest = int(input(\"Elige un número de cofre que desees abrir: \"))\n",
        "    except ValueError:\n",
        "        print(\"Por favor, ingrese un numero valido\")\n",
        "        continue\n",
        "\n",
        "    if choice_chest not in available_chest:\n",
        "        print(\"Ese cofre ya fue abierto, elige otro\")\n",
        "        continue\n",
        "\n",
        "    opened_chest.append(choice_chest)\n",
        "\n",
        "    if choice_chest == bomb:\n",
        "        print(\"BOOOOMM! Abriste la bomba!\")\n",
        "        print(\"Intentalo nuevamente, has perdido!\")\n",
        "        break\n",
        "\n",
        "    else:\n",
        "        print(f\"Cofre vacio! Buena eleccion {name}!\")\n",
        "        continue\n",
        "\n",
        "  if len(opened_chest) == 9 and bomb not in opened_chest:\n",
        "        print(\"Ganaste! Abriste todos los cofres sin explotar!\")\n",
        "\n",
        "## FIN DE CÓDIGO"
      ],
      "metadata": {
        "id": "d0hcbl0_V2BI",
        "colab": {
          "base_uri": "https://localhost:8080/"
        },
        "outputId": "a8e06da7-78d7-47ec-cef0-d203b676db6b"
      },
      "execution_count": 49,
      "outputs": [
        {
          "output_type": "stream",
          "name": "stdout",
          "text": [
            "Bienvenido a Tesoro!!\n",
            "Escribe tu nombre: 2\n",
            "Bienvenido 2! Existen 10 cofres, abre todos los cofres pero evita el cofre explosivo y gana el tesoro!\n",
            "Cofres disponibles: [1, 2, 3, 4, 5, 6, 7, 8, 9, 10]\n",
            "Elige un número de cofre que desees abrir: 2\n",
            "Cofre vacio! Buena eleccion 2!\n",
            "Cofres disponibles: [1, 3, 4, 5, 6, 7, 8, 9, 10]\n",
            "Elige un número de cofre que desees abrir: 3\n",
            "Cofre vacio! Buena eleccion 2!\n",
            "Cofres disponibles: [1, 4, 5, 6, 7, 8, 9, 10]\n",
            "Elige un número de cofre que desees abrir: 1\n",
            "Cofre vacio! Buena eleccion 2!\n",
            "Cofres disponibles: [4, 5, 6, 7, 8, 9, 10]\n",
            "Elige un número de cofre que desees abrir: 5\n",
            "Cofre vacio! Buena eleccion 2!\n",
            "Cofres disponibles: [4, 6, 7, 8, 9, 10]\n",
            "Elige un número de cofre que desees abrir: 7\n",
            "Cofre vacio! Buena eleccion 2!\n",
            "Cofres disponibles: [4, 6, 8, 9, 10]\n",
            "Elige un número de cofre que desees abrir: 9\n",
            "Cofre vacio! Buena eleccion 2!\n",
            "Cofres disponibles: [4, 6, 8, 10]\n",
            "Elige un número de cofre que desees abrir: 10\n",
            "Cofre vacio! Buena eleccion 2!\n",
            "Cofres disponibles: [4, 6, 8]\n",
            "Elige un número de cofre que desees abrir: 8\n",
            "BOOOOMM! Abriste la bomba!\n",
            "Intentalo nuevamente, has perdido!\n"
          ]
        }
      ]
    },
    {
      "cell_type": "markdown",
      "source": [
        "**Ejercicio 6: Pociones mágicas (Funciones básicas)**\n",
        "\n",
        "Crea una función usar_pocion(tipo) que permita al jugador elegir entre 'vida', 'fuerza' o 'velocidad', y retorne el efecto de la poción.\n",
        "Luego, pide al usuario que elija una poción y muestra el resultado llamando a la función."
      ],
      "metadata": {
        "id": "94yOz-rKV2gp"
      }
    },
    {
      "cell_type": "code",
      "source": [
        "## INICIO DE CÓDIGO\n",
        "\n",
        "def use_potion():\n",
        "  print(\"Pociones disponibles: vida, fuerza y velocidad\")\n",
        "  potion_type = input(\"¿Qué tipo de poción desear usar: \").strip().lower()\n",
        "\n",
        "  if potion_type == \"vida\":\n",
        "      print(\"Recuperaste 50 puntos de vida\")\n",
        "  elif potion_type == \"fuerza\":\n",
        "      print(\"Tu fuerza ha aumentado en un 25%\")\n",
        "  elif potion_type == \"velocidad\":\n",
        "      print(\"Tu velocidad ha aumentado en un 25%\")\n",
        "  else:\n",
        "      print(\"Poción no valida\")\n",
        "\n",
        "use_potion()\n",
        "\n",
        "## FIN DE CÓDIGO"
      ],
      "metadata": {
        "id": "NQKm0w5iV4Zz",
        "colab": {
          "base_uri": "https://localhost:8080/"
        },
        "outputId": "8cb2c722-93f0-4cc5-8c68-391e892246a8"
      },
      "execution_count": 28,
      "outputs": [
        {
          "output_type": "stream",
          "name": "stdout",
          "text": [
            "Pociones disponibles: vida, fuerza y velocidad\n",
            "¿Qué tipo de poción desear usar: vida\n",
            "Recuperaste 50 puntos de vida\n"
          ]
        }
      ]
    },
    {
      "cell_type": "markdown",
      "source": [
        "**Ejercicio 7: Calculadora de daño crítico (Funciones con parámetros)**\n",
        "\n",
        "Crea una función calcular_danio(base, critico) que reciba el daño base y un porcentaje de crítico, devolviendo el daño total.\n",
        "El usuario ingresará el daño base y el porcentaje crítico."
      ],
      "metadata": {
        "id": "Qdnbnm4nV44h"
      }
    },
    {
      "cell_type": "code",
      "source": [
        "## INICIO DE CÓDIGO\n",
        "\n",
        "def calculate_damage(base_damage, critical_percent):\n",
        "    total_damage = base_damage + (base_damage * critical_percent / 100)\n",
        "    return total_damage\n",
        "\n",
        "base_damage = float(input(\"Por favor, ingrese el daño base: \"))\n",
        "critical_percent = float(input(\"Por favor, ingrese el porcentaje crítico (%): \"))\n",
        "\n",
        "total_damage = calculate_damage(base_damage, critical_percent)\n",
        "\n",
        "print(f'El daño total es: {total_damage}')\n",
        "## FIN DE CÓDIGO"
      ],
      "metadata": {
        "id": "leaLQJWrV8Tx",
        "colab": {
          "base_uri": "https://localhost:8080/"
        },
        "outputId": "48af4cd5-a897-4e50-983e-d4045e98f2e5"
      },
      "execution_count": 15,
      "outputs": [
        {
          "output_type": "stream",
          "name": "stdout",
          "text": [
            "Por favor, ingrese el daño base: 30\n",
            "Por favor, ingrese el porcentaje crítico (%): 34\n",
            "El daño total es: 40.2\n"
          ]
        }
      ]
    },
    {
      "cell_type": "markdown",
      "source": [
        "**Ejercicio 8: El desafío del dragón (Condicionales + funciones + bucles)**\n",
        "\n",
        "Diseña una función enfrentar_dragon(vida, fuerza) que simule el combate:\n",
        "\n",
        "* El jugador ataca al dragón y el dragón contraataca restando vida.\n",
        "\n",
        "* Si la vida llega a 0, el jugador pierde.\n",
        "\n",
        "* Si el jugador realiza 3 ataques consecutivos sin morir, gana.\n",
        "Usa un bucle while interno para el combate."
      ],
      "metadata": {
        "id": "d4j1ckE2V9ag"
      }
    },
    {
      "cell_type": "code",
      "source": [
        "## INICIO DE CÓDIGO\n",
        "\n",
        "def enfrentar_dragon(vida, fuerza)\n",
        "\n",
        "## FIN DE CÓDIGO"
      ],
      "metadata": {
        "id": "_CGyWwuaWByi"
      },
      "execution_count": null,
      "outputs": []
    },
    {
      "cell_type": "markdown",
      "source": [
        "**Ejercicio 9: El camino del héroe (Recursividad sencilla)**\n",
        "\n",
        "Crea una función recursiva que simule el camino de un héroe cruzando N obstáculos, mostrando mensajes como:\n",
        "\n",
        "\"Obstáculo 3: saltando...\"\n",
        "\n",
        "Termina cuando N llegue a 0."
      ],
      "metadata": {
        "id": "8X5Y08fQWCFU"
      }
    },
    {
      "cell_type": "code",
      "source": [
        "## INICIO DE CÓDIGO\n",
        "\n",
        "import time\n",
        "seconds = 1\n",
        "\n",
        "def camino_heroe(n):\n",
        "    if n == 0:\n",
        "        print(\"El heroe ha cruzado todos los obstáculos!\")\n",
        "    else:\n",
        "        print(f\"Obstaculo {n}: Saltando...\")\n",
        "        time.sleep(seconds)\n",
        "        camino_heroe(n-1)\n",
        "\n",
        "obstaculos = int(input(\" Cuantos obstaculos debe cruzar el heroe?: \"))\n",
        "camino_heroe(obstaculos)\n",
        "## FIN DE CÓDIGO"
      ],
      "metadata": {
        "id": "vVDjZHSVWJdQ"
      },
      "execution_count": null,
      "outputs": []
    },
    {
      "cell_type": "markdown",
      "source": [
        "**Ejercicio 10: Torre de los hechizos (Reto Integrador Final)**\n",
        "\n",
        "Crea un programa completo que combine:\n",
        "\n",
        "* Elección de personaje.\n",
        "\n",
        "* Simulación de un combate contra un enemigo con vida y defensa.\n",
        "\n",
        "* Uso de funciones para calcular el daño.\n",
        "\n",
        "* Bucles para turnos de combate.\n",
        "\n",
        "* Uso de una función recursiva que simule las rondas como niveles (nivel 1, 2, 3 hasta ganar).\n",
        "\n"
      ],
      "metadata": {
        "id": "Behbpl_8WJzR"
      }
    },
    {
      "cell_type": "code",
      "source": [
        "## INICIO DE CÓDIGO\n",
        "print(\"Bienvenido al juego El Señor de los Anillos!\")\n",
        "name = input(\"Escribe tu nombre: \").strip().title()\n",
        "print(f\"Bienvenido {name}! Por favor elige tu personaje (Mago/Guerrero/Arquero)\")\n",
        "seconds = 2\n",
        "\n",
        "while True:\n",
        "    character = input(\"Escribe tu personaje: \").strip().lower()\n",
        "\n",
        "    if character == 'mago':\n",
        "        vida = 80\n",
        "        ataque = 50\n",
        "        defensa = 30\n",
        "        break\n",
        "    elif character == 'guerrero':\n",
        "        vida = 100\n",
        "        ataque = 40\n",
        "        defensa = 50\n",
        "        break\n",
        "    elif character == 'arquero':\n",
        "        vida = 90\n",
        "        ataque = 40\n",
        "        defensa = 40\n",
        "        break\n",
        "    else:\n",
        "        print(\"Personaje incorrecto. Elige solo entre 'Mago', 'Guerrero' o 'Arquero'\")\n",
        "\n",
        "print(f\"Preparate {character}! el dragon viene por ti!\")\n",
        "time.sleep(seconds)\n",
        "print(f\"GRRRRRRRRRRRRRRRRRRRRR! Quién se atreve a molestar! Espero que estes listo para luchar!\")\n",
        "time.sleep(seconds)\n",
        "\n",
        "## FIN DE CÓDIGO"
      ],
      "metadata": {
        "id": "smtLq1SDWTJd",
        "colab": {
          "base_uri": "https://localhost:8080/"
        },
        "outputId": "34bc4fbf-4cf0-4f2c-969f-1fc3a056cfb1"
      },
      "execution_count": 13,
      "outputs": [
        {
          "output_type": "stream",
          "name": "stdout",
          "text": [
            "Bienvenido al juego El Señor de los Anillos!\n",
            "Escribe tu nombre: Albert\n",
            "Bienvenido Albert! Por favor elige tu personaje (Mago/Guerrero/Arquero)\n",
            "Escribe tu personaje: Mago\n",
            "Preparate mago! el dragon viene por ti!\n",
            "GRRRRRRRRRRRRRRRRRRRRR! Quién se atreve a molestar! Espero que estes listo para luchar!\n"
          ]
        }
      ]
    },
    {
      "cell_type": "markdown",
      "source": [
        "---\n",
        "\n",
        "# Gracias por completar este laboratorio!\n",
        "\n",
        "---\n"
      ],
      "metadata": {
        "id": "EONqoa25Wlx3"
      }
    }
  ]
}